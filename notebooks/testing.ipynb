{
 "cells": [
  {
   "cell_type": "code",
   "execution_count": 1,
   "metadata": {},
   "outputs": [],
   "source": [
    "import pytorch_lightning as pl\n",
    "from astrochem_embedding.pipeline.data import MaskedStringDataModule\n",
    "from astrochem_embedding import get_paths\n",
    "from astrochem_embedding.models import models\n",
    "import os"
   ]
  },
  {
   "cell_type": "code",
   "execution_count": 2,
   "metadata": {},
   "outputs": [
    {
     "name": "stderr",
     "output_type": "stream",
     "text": [
      "Seed set to 215015\n"
     ]
    }
   ],
   "source": [
    "pl.seed_everything(215015)\n",
    "\n",
    "BATCH_SIZE = 128\n",
    "NUM_WORKERS = os.cpu_count() - 2\n",
    "EMBEDDING_DIM = 128\n",
    "Z_DIM = 32\n",
    "NUM_LAYERS = 1\n",
    "LR = 1e-4"
   ]
  },
  {
   "cell_type": "code",
   "execution_count": 3,
   "metadata": {},
   "outputs": [],
   "source": [
    "model = models.VICGAE(EMBEDDING_DIM, Z_DIM, NUM_LAYERS, lr=LR)\n",
    "\n",
    "data = MaskedStringDataModule(BATCH_SIZE, NUM_WORKERS)\n",
    "\n",
    "logger = pl.loggers.TensorBoardLogger(\n",
    "    \"tb_logs\", name=\"VICAstrochemEmbedder\", log_graph=True\n",
    ")\n",
    "summarizer = pl.callbacks.ModelSummary(max_depth=-1)"
   ]
  },
  {
   "cell_type": "code",
   "execution_count": 4,
   "metadata": {},
   "outputs": [
    {
     "name": "stderr",
     "output_type": "stream",
     "text": [
      "Trainer already configured with model summary callbacks: [<class 'pytorch_lightning.callbacks.model_summary.ModelSummary'>]. Skipping setting a default `ModelSummary` callback.\n",
      "GPU available: True (mps), used: True\n",
      "TPU available: False, using: 0 TPU cores\n",
      "HPU available: False, using: 0 HPUs\n",
      "\n",
      "   | Name               | Type              | Params | Mode  | In sizes                    | Out sizes                  \n",
      "------------------------------------------------------------------------------------------------------------------------------\n",
      "0  | embedding          | Embedding         | 81.2 K | train | [64, 10]                    | [64, 10, 128]              \n",
      "1  | encoder            | GRU               | 15.6 K | train | [64, 10, 128]               | [[64, 10, 32], [1, 64, 32]]\n",
      "2  | decoder            | GRU               | 6.3 K  | train | [[64, 10, 32], [1, 64, 32]] | [[64, 10, 32], [1, 64, 32]]\n",
      "3  | metric             | BCELoss           | 0      | train | ?                           | ?                          \n",
      "4  | output             | Sequential        | 20.9 K | train | [64, 10, 32]                | [64, 10, 634]              \n",
      "5  | output.0           | Linear            | 20.9 K | train | [64, 10, 32]                | [64, 10, 634]              \n",
      "6  | output.1           | Softmax           | 0      | train | [64, 10, 634]               | [64, 10, 634]              \n",
      "7  | vic_reg            | VICRegularization | 0      | train | ?                           | ?                          \n",
      "8  | vic_reg.variance   | VarianceHinge     | 0      | train | ?                           | ?                          \n",
      "9  | vic_reg.covariance | CovarianceLoss    | 0      | train | ?                           | ?                          \n",
      "10 | vic_reg.invariance | MSELoss           | 0      | train | ?                           | ?                          \n",
      "------------------------------------------------------------------------------------------------------------------------------\n",
      "123 K     Trainable params\n",
      "0         Non-trainable params\n",
      "123 K     Total params\n",
      "0.496     Total estimated model params size (MB)\n",
      "11        Modules in train mode\n",
      "0         Modules in eval mode\n"
     ]
    },
    {
     "name": "stdout",
     "output_type": "stream",
     "text": [
      "Sanity Checking: |          | 0/? [00:00<?, ?it/s]"
     ]
    },
    {
     "name": "stderr",
     "output_type": "stream",
     "text": [
      "/Users/aravindhnivas/Documents/GitHub/astrochem_embedding/.venv/lib/python3.8/site-packages/torch/utils/data/dataloader.py:557: UserWarning: This DataLoader will create 12 worker processes in total. Our suggested max number of worker in current system is 10 (`cpuset` is not taken into account), which is smaller than what this DataLoader is going to create. Please be aware that excessive worker creation might get DataLoader running slow or even freeze, lower the worker number to avoid potential slowness/freeze if necessary.\n",
      "  warnings.warn(_create_warning_msg(\n"
     ]
    }
   ],
   "source": [
    "trainer = pl.Trainer(max_epochs=5, callbacks=[summarizer], logger=logger)\n",
    "trainer.fit(model, data)"
   ]
  },
  {
   "cell_type": "code",
   "execution_count": null,
   "metadata": {},
   "outputs": [],
   "source": [
    "paths = get_paths()\n",
    "trainer.save_checkpoint(paths.get(\"models\").joinpath(\"VICGAE.ckpt\"))"
   ]
  }
 ],
 "metadata": {
  "kernelspec": {
   "display_name": ".venv",
   "language": "python",
   "name": "python3"
  },
  "language_info": {
   "codemirror_mode": {
    "name": "ipython",
    "version": 3
   },
   "file_extension": ".py",
   "mimetype": "text/x-python",
   "name": "python",
   "nbconvert_exporter": "python",
   "pygments_lexer": "ipython3",
   "version": "3.8.19"
  }
 },
 "nbformat": 4,
 "nbformat_minor": 2
}
