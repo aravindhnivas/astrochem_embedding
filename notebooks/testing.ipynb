{
 "cells": [
  {
   "cell_type": "code",
   "execution_count": 1,
   "metadata": {},
   "outputs": [],
   "source": [
    "import pytorch_lightning as pl\n",
    "from astrochem_embedding.pipeline.data import MaskedStringDataModule\n",
    "from astrochem_embedding import get_paths\n",
    "from astrochem_embedding.models import models\n",
    "from astrochem_embedding import VICGAE\n",
    "import os"
   ]
  },
  {
   "cell_type": "code",
   "execution_count": 2,
   "metadata": {},
   "outputs": [
    {
     "name": "stderr",
     "output_type": "stream",
     "text": [
      "/Users/aravindhnivas/.rye/py/cpython@3.12.5/lib/python3.12/pickle.py:1615: DeprecationWarning: `torch.distributed._sharded_tensor` will be deprecated, use `torch.distributed._shard.sharded_tensor` instead\n",
      "  __import__(module, level=0)\n",
      "/Users/aravindhnivas/Documents/GitHub/astrochem_embedding/.venv/lib/python3.12/site-packages/torch/storage.py:414: FutureWarning: You are using `torch.load` with `weights_only=False` (the current default value), which uses the default pickle module implicitly. It is possible to construct malicious pickle data which will execute arbitrary code during unpickling (See https://github.com/pytorch/pytorch/blob/main/SECURITY.md#untrusted-models for more details). In a future release, the default value for `weights_only` will be flipped to `True`. This limits the functions that could be executed during unpickling. Arbitrary objects will no longer be allowed to be loaded via this mode unless they are explicitly allowlisted by the user via `torch.serialization.add_safe_globals`. We recommend you start setting `weights_only=True` for any use case where you don't have full control of the loaded file. Please open an issue on GitHub for any issues related to this experimental feature.\n",
      "  return torch.load(io.BytesIO(b))\n"
     ]
    }
   ],
   "source": [
    "model = VICGAE.from_pretrained()"
   ]
  },
  {
   "cell_type": "code",
   "execution_count": 3,
   "metadata": {},
   "outputs": [
    {
     "name": "stderr",
     "output_type": "stream",
     "text": [
      "Seed set to 215015\n"
     ]
    }
   ],
   "source": [
    "pl.seed_everything(215015)\n",
    "\n",
    "BATCH_SIZE = 128\n",
    "NUM_WORKERS = os.cpu_count() - 2\n",
    "EMBEDDING_DIM = 128\n",
    "Z_DIM = 32\n",
    "NUM_LAYERS = 1\n",
    "LR = 1e-4\n",
    "\n",
    "paths = get_paths()\n"
   ]
  },
  {
   "cell_type": "code",
   "execution_count": 4,
   "metadata": {},
   "outputs": [],
   "source": [
    "def train_model(ckpt_name: str = \"VICGAE.ckpt\"):\n",
    "    model = models.VICGAE(EMBEDDING_DIM, Z_DIM, NUM_LAYERS, lr=LR)\n",
    "\n",
    "    data = MaskedStringDataModule(BATCH_SIZE, NUM_WORKERS)\n",
    "\n",
    "    logger = pl.loggers.TensorBoardLogger(\n",
    "        \"tb_logs\", name=\"VICAstrochemEmbedder\", log_graph=True\n",
    "    )\n",
    "    summarizer = pl.callbacks.ModelSummary(max_depth=-1)\n",
    "\n",
    "    trainer = pl.Trainer(max_epochs=5, callbacks=[summarizer], logger=logger)\n",
    "    trainer.fit(model, data)\n",
    "\n",
    "    trainer.save_checkpoint(paths.get(\"models\").joinpath(ckpt_name))\n",
    "\n",
    "# train_model('VICGAE_test.ckpt')"
   ]
  },
  {
   "cell_type": "code",
   "execution_count": 5,
   "metadata": {},
   "outputs": [],
   "source": [
    "loaded_model = models.VICGAE.load_from_checkpoint(paths.get(\"models\").joinpath(\"VICGAE.ckpt\"))"
   ]
  },
  {
   "cell_type": "code",
   "execution_count": 6,
   "metadata": {},
   "outputs": [
    {
     "data": {
      "text/plain": [
       "(VICGAE(\n",
       "   (embedding): Embedding(634, 128)\n",
       "   (encoder): GRU(128, 32, batch_first=True)\n",
       "   (decoder): GRU(32, 32, batch_first=True)\n",
       "   (metric): BCELoss()\n",
       "   (output): Sequential(\n",
       "     (0): Linear(in_features=32, out_features=634, bias=True)\n",
       "     (1): Softmax(dim=-1)\n",
       "   )\n",
       "   (vic_reg): VICRegularization(\n",
       "     (variance): VarianceHinge()\n",
       "     (covariance): CovarianceLoss()\n",
       "     (invariance): MSELoss()\n",
       "   )\n",
       " ),\n",
       " VICGAE(\n",
       "   (embedding): Embedding(634, 128)\n",
       "   (encoder): GRU(128, 32, batch_first=True)\n",
       "   (decoder): GRU(32, 32, batch_first=True)\n",
       "   (metric): BCELoss()\n",
       "   (output): Sequential(\n",
       "     (0): Linear(in_features=32, out_features=634, bias=True)\n",
       "     (1): Softmax(dim=-1)\n",
       "   )\n",
       "   (vic_reg): VICRegularization(\n",
       "     (variance): VarianceHinge()\n",
       "     (covariance): CovarianceLoss()\n",
       "     (invariance): MSELoss()\n",
       "   )\n",
       " ))"
      ]
     },
     "execution_count": 6,
     "metadata": {},
     "output_type": "execute_result"
    }
   ],
   "source": [
    "loaded_model, model"
   ]
  },
  {
   "cell_type": "code",
   "execution_count": 7,
   "metadata": {},
   "outputs": [
    {
     "data": {
      "text/plain": [
       "tensor([[-3.7251e-02, -1.9092e-02,  1.1982e-02, -3.8894e-02, -3.3427e-02,\n",
       "         -1.4961e-02, -1.0720e-03, -4.0079e-02,  5.4368e-02, -2.9073e-02,\n",
       "         -6.8230e-03,  6.2277e-02, -1.5995e-02, -6.1956e-03,  3.1204e-02,\n",
       "          3.6043e-02,  2.9236e-02, -1.0343e-03, -7.5238e-05, -6.6223e-03,\n",
       "          3.0475e-02, -7.7275e-03,  3.3575e-03,  3.5621e-02, -3.2590e-02,\n",
       "          4.3446e-03, -5.8487e-03,  2.0878e-02,  3.1586e-02, -4.0533e-02,\n",
       "          4.3696e-02, -2.0791e-02]])"
      ]
     },
     "execution_count": 7,
     "metadata": {},
     "output_type": "execute_result"
    }
   ],
   "source": [
    "model.embed_smiles(\"c1ccccc1\")"
   ]
  },
  {
   "cell_type": "code",
   "execution_count": 8,
   "metadata": {},
   "outputs": [
    {
     "data": {
      "text/plain": [
       "tensor([[-3.7251e-02, -1.9092e-02,  1.1982e-02, -3.8894e-02, -3.3427e-02,\n",
       "         -1.4961e-02, -1.0720e-03, -4.0079e-02,  5.4368e-02, -2.9073e-02,\n",
       "         -6.8230e-03,  6.2277e-02, -1.5995e-02, -6.1956e-03,  3.1204e-02,\n",
       "          3.6043e-02,  2.9236e-02, -1.0343e-03, -7.5238e-05, -6.6223e-03,\n",
       "          3.0475e-02, -7.7275e-03,  3.3575e-03,  3.5621e-02, -3.2590e-02,\n",
       "          4.3446e-03, -5.8487e-03,  2.0878e-02,  3.1586e-02, -4.0533e-02,\n",
       "          4.3696e-02, -2.0791e-02]])"
      ]
     },
     "execution_count": 8,
     "metadata": {},
     "output_type": "execute_result"
    }
   ],
   "source": [
    "loaded_model.embed_smiles(\"c1ccccc1\")"
   ]
  }
 ],
 "metadata": {
  "kernelspec": {
   "display_name": ".venv",
   "language": "python",
   "name": "python3"
  },
  "language_info": {
   "codemirror_mode": {
    "name": "ipython",
    "version": 3
   },
   "file_extension": ".py",
   "mimetype": "text/x-python",
   "name": "python",
   "nbconvert_exporter": "python",
   "pygments_lexer": "ipython3",
   "version": "3.12.5"
  }
 },
 "nbformat": 4,
 "nbformat_minor": 2
}
